{
 "cells": [
  {
   "cell_type": "markdown",
   "id": "9e5df67a",
   "metadata": {},
   "source": [
    "Import required libraries"
   ]
  },
  {
   "cell_type": "code",
   "execution_count": 1,
   "id": "f5f29f6b",
   "metadata": {},
   "outputs": [],
   "source": [
    "import findspark\n",
    "findspark.init()\n",
    "from pyspark.sql import SparkSession"
   ]
  },
  {
   "cell_type": "code",
   "execution_count": 2,
   "id": "af2d1ab8",
   "metadata": {},
   "outputs": [],
   "source": [
    "## Importing SparkSession and creating a spark object\n",
    "spark = SparkSession.builder.master(\"local\").appName(\"iot data\").getOrCreate()\n",
    "sc = spark.sparkContext"
   ]
  },
  {
   "cell_type": "code",
   "execution_count": 3,
   "id": "8d814fdc",
   "metadata": {},
   "outputs": [
    {
     "data": {
      "text/html": [
       "\n",
       "            <div>\n",
       "                <p><b>SparkSession - in-memory</b></p>\n",
       "                \n",
       "        <div>\n",
       "            <p><b>SparkContext</b></p>\n",
       "\n",
       "            <p><a href=\"http://host.docker.internal:4040\">Spark UI</a></p>\n",
       "\n",
       "            <dl>\n",
       "              <dt>Version</dt>\n",
       "                <dd><code>v3.0.3</code></dd>\n",
       "              <dt>Master</dt>\n",
       "                <dd><code>local</code></dd>\n",
       "              <dt>AppName</dt>\n",
       "                <dd><code>iot data</code></dd>\n",
       "            </dl>\n",
       "        </div>\n",
       "        \n",
       "            </div>\n",
       "        "
      ],
      "text/plain": [
       "<pyspark.sql.session.SparkSession at 0x1b24bba43d0>"
      ]
     },
     "execution_count": 3,
     "metadata": {},
     "output_type": "execute_result"
    }
   ],
   "source": [
    "spark"
   ]
  },
  {
   "cell_type": "markdown",
   "id": "6e659ebc",
   "metadata": {},
   "source": [
    "# 1.Read json file data into a Data Frame"
   ]
  },
  {
   "cell_type": "code",
   "execution_count": 4,
   "id": "07b95dc8",
   "metadata": {},
   "outputs": [
    {
     "data": {
      "text/plain": [
       "DataFrame[battery_level: bigint, c02_level: bigint, cca2: string, cca3: string, cn: string, device_id: bigint, device_name: string, humidity: bigint, ip: string, latitude: double, lcd: string, longitude: double, scale: string, temp: bigint, timestamp: bigint]"
      ]
     },
     "execution_count": 4,
     "metadata": {},
     "output_type": "execute_result"
    }
   ],
   "source": [
    "## Reading the data into DataFrame\n",
    "df = spark.read.format(\"json\").load('iot_devices.json', header=True,inferSchema=True)\n",
    "df"
   ]
  },
  {
   "cell_type": "code",
   "execution_count": 5,
   "id": "def00df1",
   "metadata": {},
   "outputs": [
    {
     "name": "stdout",
     "output_type": "stream",
     "text": [
      "root\n",
      " |-- battery_level: long (nullable = true)\n",
      " |-- c02_level: long (nullable = true)\n",
      " |-- cca2: string (nullable = true)\n",
      " |-- cca3: string (nullable = true)\n",
      " |-- cn: string (nullable = true)\n",
      " |-- device_id: long (nullable = true)\n",
      " |-- device_name: string (nullable = true)\n",
      " |-- humidity: long (nullable = true)\n",
      " |-- ip: string (nullable = true)\n",
      " |-- latitude: double (nullable = true)\n",
      " |-- lcd: string (nullable = true)\n",
      " |-- longitude: double (nullable = true)\n",
      " |-- scale: string (nullable = true)\n",
      " |-- temp: long (nullable = true)\n",
      " |-- timestamp: long (nullable = true)\n",
      "\n"
     ]
    }
   ],
   "source": [
    "# Checking Schema\n",
    "df.printSchema()"
   ]
  },
  {
   "cell_type": "code",
   "execution_count": 6,
   "id": "2a93d21a",
   "metadata": {},
   "outputs": [
    {
     "data": {
      "text/plain": [
       "15"
      ]
     },
     "execution_count": 6,
     "metadata": {},
     "output_type": "execute_result"
    }
   ],
   "source": [
    "# Checking Columns\n",
    "df.columns\n",
    "len(df.columns)"
   ]
  },
  {
   "cell_type": "code",
   "execution_count": 7,
   "id": "2dcffa36",
   "metadata": {},
   "outputs": [
    {
     "data": {
      "text/plain": [
       "198164"
      ]
     },
     "execution_count": 7,
     "metadata": {},
     "output_type": "execute_result"
    }
   ],
   "source": [
    "# Checking the count of records in the dataframe\n",
    "df.count()"
   ]
  },
  {
   "cell_type": "code",
   "execution_count": 8,
   "id": "54d0e093",
   "metadata": {},
   "outputs": [
    {
     "name": "stdout",
     "output_type": "stream",
     "text": [
      "+-------------+---------+----+----+-------------+---------+--------------------+--------+---------------+--------+------+---------+-------+----+-------------+\n",
      "|battery_level|c02_level|cca2|cca3|           cn|device_id|         device_name|humidity|             ip|latitude|   lcd|longitude|  scale|temp|    timestamp|\n",
      "+-------------+---------+----+----+-------------+---------+--------------------+--------+---------------+--------+------+---------+-------+----+-------------+\n",
      "|            8|      868|  US| USA|United States|        1|meter-gauge-1xbYRYcj|      51|   68.161.225.1|    38.0| green|    -97.0|Celsius|  34|1458444054093|\n",
      "|            7|     1473|  NO| NOR|       Norway|        2|   sensor-pad-2n2Pea|      70|  213.161.254.1|   62.47|   red|     6.15|Celsius|  11|1458444054119|\n",
      "|            2|     1556|  IT| ITA|        Italy|        3| device-mac-36TWSKiT|      44|      88.36.5.1|   42.83|   red|    12.83|Celsius|  19|1458444054120|\n",
      "|            6|     1080|  US| USA|United States|        4|   sensor-pad-4mzWkz|      32|  66.39.173.154|   44.06|yellow|  -121.32|Celsius|  28|1458444054121|\n",
      "|            4|      931|  PH| PHL|  Philippines|        5|therm-stick-5gimp...|      62|    203.82.41.9|   14.58| green|   120.97|Celsius|  25|1458444054122|\n",
      "|            3|     1210|  US| USA|United States|        6|sensor-pad-6al7RT...|      51| 204.116.105.67|   35.93|yellow|   -85.46|Celsius|  27|1458444054122|\n",
      "|            3|     1129|  CN| CHN|        China|        7|meter-gauge-7GeDoanM|      26|  220.173.179.1|   22.82|yellow|   108.32|Celsius|  18|1458444054123|\n",
      "|            0|     1536|  JP| JPN|        Japan|        8|sensor-pad-8xUD6p...|      35|  210.173.177.1|   35.69|   red|   139.69|Celsius|  27|1458444054123|\n",
      "|            3|      807|  JP| JPN|        Japan|        9| device-mac-9GcjZ2pw|      85|  118.23.68.227|   35.69| green|   139.69|Celsius|  13|1458444054124|\n",
      "|            7|     1470|  US| USA|United States|       10|sensor-pad-10Bsyw...|      56|208.109.163.218|   33.61|   red|  -111.89|Celsius|  26|1458444054125|\n",
      "+-------------+---------+----+----+-------------+---------+--------------------+--------+---------------+--------+------+---------+-------+----+-------------+\n",
      "only showing top 10 rows\n",
      "\n"
     ]
    }
   ],
   "source": [
    "# Printing Top 5 rows \n",
    "df.show(10)"
   ]
  },
  {
   "cell_type": "markdown",
   "id": "dc2cdc92",
   "metadata": {},
   "source": [
    "# 2.Convert the Dataframe into a temporary view called iot."
   ]
  },
  {
   "cell_type": "code",
   "execution_count": 9,
   "id": "53b0d129",
   "metadata": {},
   "outputs": [
    {
     "data": {
      "text/plain": [
       "DataFrame[battery_level: bigint, c02_level: bigint, cca2: string, cca3: string, cn: string, device_id: bigint, device_name: string, humidity: bigint, ip: string, latitude: double, lcd: string, longitude: double, scale: string, temp: bigint, timestamp: bigint]"
      ]
     },
     "execution_count": 9,
     "metadata": {},
     "output_type": "execute_result"
    }
   ],
   "source": [
    "df.createOrReplaceTempView(\"iot\")\n",
    "df"
   ]
  },
  {
   "cell_type": "markdown",
   "id": "b089c284",
   "metadata": {},
   "source": [
    "# 3.Count how many devices are there from each country and display the output."
   ]
  },
  {
   "cell_type": "code",
   "execution_count": 11,
   "id": "a8389ddd",
   "metadata": {},
   "outputs": [
    {
     "name": "stdout",
     "output_type": "stream",
     "text": [
      "+-----------------+-----+\n",
      "|               cn|count|\n",
      "+-----------------+-----+\n",
      "|    United States|68545|\n",
      "|            China|14455|\n",
      "|            Japan|12100|\n",
      "|Republic of Korea|11879|\n",
      "|          Germany| 7942|\n",
      "|   United Kingdom| 6486|\n",
      "|           Canada| 6041|\n",
      "|           Russia| 5989|\n",
      "|           France| 5305|\n",
      "|           Brazil| 3224|\n",
      "|        Australia| 3119|\n",
      "|            Italy| 2915|\n",
      "|           Sweden| 2880|\n",
      "|           Poland| 2744|\n",
      "|      Netherlands| 2488|\n",
      "|            Spain| 2310|\n",
      "|           Taiwan| 2128|\n",
      "|            India| 1867|\n",
      "|                 | 1810|\n",
      "|   Czech Republic| 1507|\n",
      "+-----------------+-----+\n",
      "only showing top 20 rows\n",
      "\n"
     ]
    }
   ],
   "source": [
    "spark.sql('''\n",
    "select cn, count(device_id) as count\n",
    "from iot\n",
    "group by cn\n",
    "order by count desc\n",
    "''').show()"
   ]
  },
  {
   "cell_type": "markdown",
   "id": "de3b7527",
   "metadata": {},
   "source": [
    "# 4. Display all the countries whose carbon dioxide level is more than 1400. Sort the output in descending order."
   ]
  },
  {
   "cell_type": "code",
   "execution_count": 12,
   "id": "12221959",
   "metadata": {},
   "outputs": [
    {
     "name": "stdout",
     "output_type": "stream",
     "text": [
      "+--------------------+---------+\n",
      "|                  cn|c02_level|\n",
      "+--------------------+---------+\n",
      "|              Turkey|     1599|\n",
      "|            Bulgaria|     1599|\n",
      "|             Bermuda|     1599|\n",
      "|      United Kingdom|     1599|\n",
      "|           Australia|     1599|\n",
      "|              Russia|     1599|\n",
      "|           Argentina|     1599|\n",
      "|Saint Kitts and N...|     1599|\n",
      "|United Arab Emirates|     1599|\n",
      "|        South Africa|     1599|\n",
      "|                    |     1599|\n",
      "|            Malaysia|     1599|\n",
      "|              Mexico|     1599|\n",
      "|              Poland|     1599|\n",
      "|              Sweden|     1599|\n",
      "|         Philippines|     1599|\n",
      "|             Germany|     1599|\n",
      "|             Finland|     1599|\n",
      "|             Ukraine|     1599|\n",
      "|              Latvia|     1599|\n",
      "+--------------------+---------+\n",
      "only showing top 20 rows\n",
      "\n"
     ]
    }
   ],
   "source": [
    "spark.sql('''\n",
    "select cn,c02_level \n",
    "from iot\n",
    "where c02_level > 1400\n",
    "group by cn,c02_level\n",
    "order by c02_level desc\n",
    "''').show()\n",
    "#spark.sql(\"select cn from Data where c02_level > 1400\").show()"
   ]
  },
  {
   "cell_type": "markdown",
   "id": "2d6182a6",
   "metadata": {},
   "source": [
    "# 5.Select all countries' devices with high-levels of C02 and group by cca3 and order by device_ids (Hint: For high CO2 level, the LCD status will be RED)."
   ]
  },
  {
   "cell_type": "code",
   "execution_count": 13,
   "id": "69465c2f",
   "metadata": {},
   "outputs": [
    {
     "name": "stdout",
     "output_type": "stream",
     "text": [
      "+-----------------+----+--------------------+---------+\n",
      "|               cn|cca3|         device_name|device_id|\n",
      "+-----------------+----+--------------------+---------+\n",
      "|           Norway| NOR|   sensor-pad-2n2Pea|        2|\n",
      "|            Italy| ITA| device-mac-36TWSKiT|        3|\n",
      "|            Japan| JPN|sensor-pad-8xUD6p...|        8|\n",
      "|    United States| USA|sensor-pad-10Bsyw...|       10|\n",
      "|            Italy| ITA|meter-gauge-11dlM...|       11|\n",
      "|    United States| USA|sensor-pad-16aXmI...|       16|\n",
      "|    United States| USA|meter-gauge-17zb8...|       17|\n",
      "|    United States| USA|meter-gauge-19eg1...|       19|\n",
      "|            Japan| JPN|  sensor-pad-22oWV2D|       22|\n",
      "|           Canada| CAN|sensor-pad-24Pytz...|       24|\n",
      "|Republic of Korea| KOR|  device-mac-27P5wf2|       27|\n",
      "|Republic of Korea| KOR|sensor-pad-28Tsud...|       28|\n",
      "|          Ukraine| UKR|meter-gauge-47WsF9s8|       47|\n",
      "|           Sweden| SWE|meter-gauge-534fD...|       53|\n",
      "|    United States| USA|sensor-pad-5410CW...|       54|\n",
      "|    United States| USA|device-mac-57tRB0...|       57|\n",
      "|    United States| USA|  sensor-pad-64djcIn|       64|\n",
      "|   Czech Republic| CZE|sensor-pad-663dzo...|       66|\n",
      "|            India| IND|meter-gauge-77IKW...|       77|\n",
      "|Republic of Korea| KOR|sensor-pad-78PkeI...|       78|\n",
      "+-----------------+----+--------------------+---------+\n",
      "only showing top 20 rows\n",
      "\n"
     ]
    }
   ],
   "source": [
    "spark.sql('''\n",
    "select cn,cca3,device_name,device_id\n",
    "from iot\n",
    "where lcd = \"red\"\n",
    "group by cn,cca3,device_name,device_id\n",
    "order by device_id asc\n",
    "''').show()"
   ]
  },
  {
   "cell_type": "markdown",
   "id": "901292b0",
   "metadata": {},
   "source": [
    "# 6.find out all devices in countries whose batteries need replacements."
   ]
  },
  {
   "cell_type": "markdown",
   "id": "8a58d6cb",
   "metadata": {},
   "source": [
    "#Devices with battery level less than 5 are considered low and have to be replaced"
   ]
  },
  {
   "cell_type": "code",
   "execution_count": 14,
   "id": "3decc7c8",
   "metadata": {},
   "outputs": [
    {
     "name": "stdout",
     "output_type": "stream",
     "text": [
      "+--------------------+-----------------+-------------+\n",
      "|         device_name|               cn|battery_level|\n",
      "+--------------------+-----------------+-------------+\n",
      "| device-mac-36TWSKiT|            Italy|            2|\n",
      "|therm-stick-5gimp...|      Philippines|            4|\n",
      "|sensor-pad-6al7RT...|    United States|            3|\n",
      "|meter-gauge-7GeDoanM|            China|            3|\n",
      "|sensor-pad-8xUD6p...|            Japan|            0|\n",
      "| device-mac-9GcjZ2pw|            Japan|            3|\n",
      "|meter-gauge-11dlM...|            Italy|            3|\n",
      "|sensor-pad-12Y2kIm0o|    United States|            0|\n",
      "|sensor-pad-14QL93...|           Norway|            1|\n",
      "|sensor-pad-16aXmI...|    United States|            4|\n",
      "|meter-gauge-17zb8...|    United States|            0|\n",
      "|sensor-pad-18XULN9Xv|            China|            4|\n",
      "|therm-stick-25kK6...|    United States|            4|\n",
      "|sensor-pad-28Tsud...|Republic of Korea|            3|\n",
      "|device-mac-33B94G...|           Russia|            3|\n",
      "|sensor-pad-36VQv8...|           Cyprus|            1|\n",
      "|device-mac-39iklY...|            China|            2|\n",
      "| sensor-pad-40NjeMqS|           France|            2|\n",
      "|meter-gauge-43RYo...|            Spain|            2|\n",
      "| sensor-pad-448DeWGL|          Germany|            0|\n",
      "+--------------------+-----------------+-------------+\n",
      "only showing top 20 rows\n",
      "\n"
     ]
    }
   ],
   "source": [
    "\n",
    "spark.sql('''\n",
    "select device_name,cn,battery_level\n",
    "from iot\n",
    "where battery_level < 5\n",
    "''').show()"
   ]
  },
  {
   "cell_type": "code",
   "execution_count": 15,
   "id": "9c923ca4",
   "metadata": {},
   "outputs": [],
   "source": [
    "# Stopping Spark\n",
    "spark.stop()"
   ]
  }
 ],
 "metadata": {
  "kernelspec": {
   "display_name": "gl",
   "language": "python",
   "name": "gl"
  },
  "language_info": {
   "codemirror_mode": {
    "name": "ipython",
    "version": 3
   },
   "file_extension": ".py",
   "mimetype": "text/x-python",
   "name": "python",
   "nbconvert_exporter": "python",
   "pygments_lexer": "ipython3",
   "version": "3.9.13"
  }
 },
 "nbformat": 4,
 "nbformat_minor": 5
}
